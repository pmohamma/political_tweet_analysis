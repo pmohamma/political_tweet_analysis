{
 "cells": [
  {
   "cell_type": "code",
   "execution_count": 1,
   "metadata": {},
   "outputs": [],
   "source": [
    "from tweet import *\n",
    "from candidate import *\n",
    "import pandas as pd\n",
    "import numpy as np\n",
    "import tweepy\n",
    "import json\n",
    "import calendar\n",
    "import datetime\n",
    "import matplotlib.pyplot as plt\n",
    "from matplotlib.offsetbox import OffsetImage, AnnotationBbox"
   ]
  },
  {
   "cell_type": "code",
   "execution_count": 2,
   "metadata": {},
   "outputs": [],
   "source": [
    "#TODO: Fill this in\n",
    "\n",
    "consumer_key = \"BeC8UJbqCHyX6pTWAvEvvIcGJ\"\n",
    "consumer_secret = \"IwEzqplLUKar6MFZ7l828tLbEpxG3ObD49llOSPJ6Y6phKzVYT\"\n",
    "access_token = \"727703646331240448-31ZFnJzKYfDcHh3HIgBhd1FfU3W7VaO\"\n",
    "access_token_secret = \"GprFSIZ18ukkn9lZb7INfEn78miwkXzWpkzyJ6ocLAg6J\"\n",
    "\n",
    "auth = tweepy.OAuthHandler(consumer_key, consumer_secret)\n",
    "auth.set_access_token(access_token, access_token_secret)\n",
    "\n",
    "api = tweepy.API(auth, wait_on_rate_limit=True)"
   ]
  },
  {
   "cell_type": "code",
   "execution_count": 3,
   "metadata": {},
   "outputs": [],
   "source": [
    "month_abbrs = dict((v,k) for k,v in enumerate(calendar.month_abbr))\n",
    "\n",
    "most_recent_rankings = ['bennet',\n",
    "                         'castro',\n",
    "                         'booker',\n",
    "                         'klobuchar',\n",
    "                         'gabbard',\n",
    "                         'yang',\n",
    "                         'harris',\n",
    "                         'buttigieg',\n",
    "                         'warren',\n",
    "                         'sanders',\n",
    "                         'biden']\n",
    "\n",
    "last_name_to_handle = {'bennet': 'MichaelBennet',\n",
    "                         'castro': 'JulianCastro',\n",
    "                         'booker': 'CoryBooker',\n",
    "                         'klobuchar': 'amyklobuchar',\n",
    "                         'gabbard': 'TulsiGabbard',\n",
    "                         'yang': 'AndrewYang',\n",
    "                         'harris': 'KamalaHarris',\n",
    "                         'buttigieg': 'PeteButtigieg',\n",
    "                         'warren': 'ewarren',\n",
    "                         'sanders': 'BernieSanders',\n",
    "                         'biden': 'JoeBiden'}\n",
    "\n",
    "handle_to_last_name = {}\n",
    "for i in last_name_to_handle:\n",
    "    handle_to_last_name[i] = last_name_to_handle[i]"
   ]
  },
  {
   "cell_type": "code",
   "execution_count": 4,
   "metadata": {},
   "outputs": [],
   "source": [
    "def get_tweet_time(time_str):\n",
    "    global month_abbrs\n",
    "    time_lst = time_str.split(\" \")\n",
    "    year = int(time_lst[-1])\n",
    "    day = int(time_lst[2])\n",
    "    month = month_abbrs[time_lst[1]]\n",
    "    return datetime.date(year, month, day)    "
   ]
  },
  {
   "cell_type": "code",
   "execution_count": 8,
   "metadata": {},
   "outputs": [
    {
     "name": "stdout",
     "output_type": "stream",
     "text": [
      "AndrewYang\n",
      "ewarren\n",
      "PeteButtigieg\n",
      "BernieSanders\n",
      "MichaelBennet\n",
      "amyklobuchar\n",
      "KamalaHarris\n",
      "TulsiGabbard\n",
      "JulianCastro\n",
      "CoryBooker\n",
      "JoeBiden\n"
     ]
    }
   ],
   "source": [
    "# startDate =   datetime.datetime(2019, 6, 1, 0, 0, 0)\n",
    "startDate =   datetime.datetime(2019, 11, 1, 0, 0, 0)\n",
    "endDate = datetime.datetime(2019, 11, 2, 0, 0, 0)\n",
    "tweets = {}\n",
    "cand_handles = ['AndrewYang', 'ewarren', 'PeteButtigieg', 'BernieSanders', \n",
    "                'MichaelBennet', 'amyklobuchar', 'KamalaHarris', 'TulsiGabbard', \n",
    "                'JulianCastro', 'CoryBooker', 'JoeBiden']\n",
    "\n",
    "for cand_name in cand_handles:\n",
    "    print(cand_name)\n",
    "    cand_tweets = []\n",
    "    tweets[cand_name] = cand_tweets\n",
    "    try:\n",
    "        tmpTweets = api.user_timeline(cand_name, tweet_mode='extended')\n",
    "#     except tweepy.TweepError:\n",
    "#         time.sleep(60 * 15)\n",
    "#         continue\n",
    "    except StopIteration:\n",
    "        break\n",
    "    for t in tmpTweets:\n",
    "        if t.created_at < endDate and t.created_at > startDate:\n",
    "            cand_tweets.append(t)\n",
    "    if len(cand_tweets) > 0:\n",
    "        print(cand_tweets)\n",
    "    try:\n",
    "        while (tmpTweets[-1].created_at > startDate):\n",
    "            tmpTweets = api.user_timeline(cand_name, max_id = tmpTweets[-1].id, tweet_mode='extended')\n",
    "            for ti in tmpTweets:\n",
    "                if ti.created_at < endDate and ti.created_at > startDate:\n",
    "                    t = ti._json\n",
    "                    tw_obj = Tweet(t['full_text'], get_tweet_time(t['created_at']), cand_name)\n",
    "                    if 'media' in t['entities']:\n",
    "                        tw_obj.contains_media()\n",
    "                    if len(t['entities']['urls']) > 0:\n",
    "                        tw_obj.contains_link()\n",
    "                    if t['in_reply_to_screen_name'] and t['in_reply_to_screen_name'] != cand_name:\n",
    "                        tw_obj.is_response()\n",
    "                    cand_tweets.append(tw_obj)\n",
    "#     except tweepy.TweepError:\n",
    "#         time.sleep(60 * 15)\n",
    "#         continue\n",
    "    except:\n",
    "        print(len(cand_tweets))\n",
    "        print(len(tmpTweets))"
   ]
  },
  {
   "cell_type": "code",
   "execution_count": null,
   "metadata": {},
   "outputs": [],
   "source": [
    "\n",
    "warren_tweets = tweets['ewarren']\n",
    "print(len(tweets['ewarren']))\n",
    "zzzzzzzzzzz = 0\n",
    "for i in range(len(warren_tweets)):\n",
    "    if (warren_tweets[i]._clean_text).count(\" \") > 25:\n",
    "        print(warren_tweets[i]._raw_text)\n",
    "        print(warren_tweets[i].get_sentiment()[0])\n",
    "        \n",
    "        zzzzzzzzzzz += 1\n",
    "print(zzzzzzzzzzz)"
   ]
  },
  {
   "cell_type": "code",
   "execution_count": 17,
   "metadata": {},
   "outputs": [],
   "source": [
    "def avg_sentiment(cand):\n",
    "    global tweets\n",
    "    cand_t = tweets[cand]\n",
    "    sent_sum = float(0)\n",
    "    num_counted = float(0)\n",
    "    for i in range(len(cand_t)):\n",
    "#         if (cand_t[i]._clean_text).count(\" \") > 30:\n",
    "        if (cand_t[i]._clean_text).count(\" \") > 15:\n",
    "            sent_sum += cand_t[i].get_sentiment()[0]\n",
    "            num_counted += 1\n",
    "    return sent_sum/num_counted\n",
    "\n",
    "cand_sentiments = {}\n",
    "sentiment_nums = []\n",
    "for i in tweets:\n",
    "    sent = avg_sentiment(i)\n",
    "    cand_sentiments[i] = sent\n",
    "    sentiment_nums.append(sent)"
   ]
  },
  {
   "cell_type": "code",
   "execution_count": 18,
   "metadata": {},
   "outputs": [
    {
     "data": {
      "text/plain": [
       "[0.08645833333333333,\n",
       " 0.09637659665437444,\n",
       " 0.26666666666666666,\n",
       " 0.04106240981240981,\n",
       " -0.021861471861471866,\n",
       " 0.3551488095238095,\n",
       " 0.19049938157081017,\n",
       " 0.3181481481481481,\n",
       " 0.15763888888888888,\n",
       " 0.12083333333333335,\n",
       " 0.2638888888888889]"
      ]
     },
     "execution_count": 18,
     "metadata": {},
     "output_type": "execute_result"
    }
   ],
   "source": [
    "cand_sentiments\n",
    "\n",
    "sentiment_nums"
   ]
  },
  {
   "cell_type": "code",
   "execution_count": 24,
   "metadata": {},
   "outputs": [
    {
     "name": "stdout",
     "output_type": "stream",
     "text": [
      "[11. 10.  9.  8.  7.  6.  5.  4.  3.  2.  1.]\n"
     ]
    },
    {
     "data": {
      "image/png": "[encoded data removed]",
      "text/plain": [
       "<Figure size 432x288 with 1 Axes>"
      ]
     },
     "metadata": {
      "needs_background": "light"
     },
     "output_type": "display_data"
    }
   ],
   "source": [
    "def getImage(path):\n",
    "    if path == 'images/sanders.png':\n",
    "        return OffsetImage(plt.imread(path), zoom = 0.03, interpolation='gaussian')\n",
    "    elif path == 'images/bennet.png':\n",
    "        return OffsetImage(plt.imread(path), zoom = 0.08, interpolation='gaussian')\n",
    "    else:\n",
    "        return OffsetImage(plt.imread(path), zoom = 0.1, interpolation='gaussian')\n",
    "\n",
    "paths = ['images/bennet.png',\n",
    "        'images/biden.png',\n",
    "        'images/booker.png',\n",
    "        'images/buttigieg.png',\n",
    "        'images/castro.png',\n",
    "        'images/gabbard.png',\n",
    "        'images/harris.png',\n",
    "        'images/klobuchar.png',\n",
    "        'images/sanders.png',\n",
    "        'images/warren.png',\n",
    "        'images/yang.png']\n",
    "\n",
    "x = [i+1 for i in range(len(paths))]\n",
    "y = sentiment_nums\n",
    "# x = [0,1,2,3,4]\n",
    "# y = [0,1,2,3,4]\n",
    "\n",
    "fig, ax = plt.subplots()\n",
    "ax.scatter(x, y, color = \"white\")\n",
    "plt.xticks(np.arange(1, len(paths)+1, 1), np.arange(len(paths), 0, -1))\n",
    "\n",
    "\n",
    "# for x0, y0, path in zip(x, y,paths):\n",
    "for i in range(len(paths)):\n",
    "    candidate_name = most_recent_rankings[i]\n",
    "    path_name = \"images/\" + candidate_name + \".png\"\n",
    "#     ab = AnnotationBbox(getImage(path), (x0, y0), frameon=False) # , box_alignment=(0.3,0.3))\n",
    "    ab = AnnotationBbox(getImage(path_name), (x[i], \n",
    "                            cand_sentiments[last_name_to_handle[candidate_name]]), frameon=False) # , box_alignment=(0.3,0.3))\n",
    "    ax.add_artist(ab)\n",
    "    \n",
    "plt.xlabel(\"Position in Latest Polls (RCP Average)\")\n",
    "plt.ylabel(\"Average Tweet Sentiment\")\n",
    "plt.title(\"Average Tweet Sentiment vs. Position in Polls\")\n",
    "\n",
    "print(np.arange(len(paths), 0, -1.0))\n",
    "\n",
    "plt.savefig('my_figure.pdf', bbox_inches='tight', dpi=400)"
   ]
  }
 ],
 "metadata": {
  "kernelspec": {
   "display_name": "Python 3",
   "language": "python",
   "name": "python3"
  },
  "language_info": {
   "codemirror_mode": {
    "name": "ipython",
    "version": 3
   },
   "file_extension": ".py",
   "mimetype": "text/x-python",
   "name": "python",
   "nbconvert_exporter": "python",
   "pygments_lexer": "ipython3",
   "version": "3.7.4"
  }
 },
 "nbformat": 4,
 "nbformat_minor": 2
}
