{
 "cells": [
  {
   "cell_type": "code",
   "execution_count": 31,
   "metadata": {},
   "outputs": [],
   "source": [
    "from tweet import *\n",
    "from candidate import *\n",
    "import pandas as pd\n",
    "import numpy as np\n",
    "import tweepy\n",
    "import json\n",
    "import calendar\n",
    "import datetime\n",
    "import matplotlib.pyplot as plt\n",
    "from matplotlib.offsetbox import OffsetImage, AnnotationBbox\n",
    "import time"
   ]
  },
  {
   "cell_type": "code",
   "execution_count": 2,
   "metadata": {},
   "outputs": [],
   "source": [
    "#TODO: Fill this in\n",
    "\n",
    "consumer_key = \"BeC8UJbqCHyX6pTWAvEvvIcGJ\"\n",
    "consumer_secret = \"IwEzqplLUKar6MFZ7l828tLbEpxG3ObD49llOSPJ6Y6phKzVYT\"\n",
    "access_token = \"727703646331240448-31ZFnJzKYfDcHh3HIgBhd1FfU3W7VaO\"\n",
    "access_token_secret = \"GprFSIZ18ukkn9lZb7INfEn78miwkXzWpkzyJ6ocLAg6J\"\n",
    "\n",
    "auth = tweepy.OAuthHandler(consumer_key, consumer_secret)\n",
    "auth.set_access_token(access_token, access_token_secret)\n",
    "\n",
    "api = tweepy.API(auth, wait_on_rate_limit=True)"
   ]
  },
  {
   "cell_type": "code",
   "execution_count": 3,
   "metadata": {},
   "outputs": [],
   "source": [
    "month_abbrs = dict((v,k) for k,v in enumerate(calendar.month_abbr))\n",
    "\n",
    "most_recent_rankings = ['bennet',\n",
    "                         'castro',\n",
    "                         'booker',\n",
    "                         'klobuchar',\n",
    "                         'gabbard',\n",
    "                         'yang',\n",
    "                         'harris',\n",
    "                         'buttigieg',\n",
    "                         'warren',\n",
    "                         'sanders',\n",
    "                         'biden']\n",
    "\n",
    "last_name_to_handle = {'bennet': 'MichaelBennet',\n",
    "                         'castro': 'JulianCastro',\n",
    "                         'booker': 'CoryBooker',\n",
    "                         'klobuchar': 'amyklobuchar',\n",
    "                         'gabbard': 'TulsiGabbard',\n",
    "                         'yang': 'AndrewYang',\n",
    "                         'harris': 'KamalaHarris',\n",
    "                         'buttigieg': 'PeteButtigieg',\n",
    "                         'warren': 'ewarren',\n",
    "                         'sanders': 'BernieSanders',\n",
    "                         'biden': 'JoeBiden'}\n",
    "\n",
    "handle_to_last_name = {}\n",
    "for i in last_name_to_handle:\n",
    "    handle_to_last_name[i] = last_name_to_handle[i]"
   ]
  },
  {
   "cell_type": "code",
   "execution_count": 4,
   "metadata": {},
   "outputs": [],
   "source": [
    "def get_tweet_time(time_str):\n",
    "    global month_abbrs\n",
    "    time_lst = time_str.split(\" \")\n",
    "    year = int(time_lst[-1])\n",
    "    day = int(time_lst[2])\n",
    "    month = month_abbrs[time_lst[1]]\n",
    "    return datetime.date(year, month, day)    "
   ]
  },
  {
   "cell_type": "code",
   "execution_count": 33,
   "metadata": {},
   "outputs": [
    {
     "name": "stdout",
     "output_type": "stream",
     "text": [
      "AndrewYang\n",
      "ewarren\n",
      "PeteButtigieg\n",
      "BernieSanders\n",
      "MichaelBennet\n",
      "amyklobuchar\n",
      "KamalaHarris\n",
      "TulsiGabbard\n",
      "JulianCastro\n",
      "CoryBooker\n",
      "JoeBiden\n"
     ]
    }
   ],
   "source": [
    "startDate =   datetime.datetime(2019, 9, 13, 0, 0, 0)\n",
    "# startDate =   datetime.datetime(2019, 11, 1, 0, 0, 0)\n",
    "endDate = datetime.datetime(2019, 11, 16, 0, 0, 0)\n",
    "tweets = {}\n",
    "cand_handles = ['AndrewYang', 'ewarren', 'PeteButtigieg', 'BernieSanders', \n",
    "                'MichaelBennet', 'amyklobuchar', 'KamalaHarris', 'TulsiGabbard', \n",
    "                'JulianCastro', 'CoryBooker', 'JoeBiden']\n",
    "\n",
    "for cand_name in cand_handles:\n",
    "    print(cand_name)\n",
    "    cand_tweets = []\n",
    "    tweets[cand_name] = cand_tweets\n",
    "    try:\n",
    "        tmpTweets = api.user_timeline(cand_name, tweet_mode='extended')\n",
    "    except tweepy.TweepError:\n",
    "        print(\"tweepyError 2\")\n",
    "        time.sleep(60 * 15)\n",
    "        continue\n",
    "    except StopIteration:\n",
    "        break\n",
    "    for t in tmpTweets:\n",
    "        if t.created_at < endDate and t.created_at > startDate:\n",
    "            cand_tweets.append(t)\n",
    "    if len(cand_tweets) > 0:\n",
    "        print(cand_tweets)\n",
    "    try:\n",
    "        while (tmpTweets[-1].created_at > startDate):\n",
    "            tmpTweets = api.user_timeline(cand_name, max_id = tmpTweets[-1].id, tweet_mode='extended')\n",
    "            for ti in tmpTweets:\n",
    "                if ti.created_at < endDate and ti.created_at > startDate:\n",
    "                    t = ti._json\n",
    "                    tw_obj = Tweet(t['full_text'], get_tweet_time(t['created_at']), cand_name)\n",
    "                    if 'media' in t['entities']:\n",
    "                        tw_obj.contains_media()\n",
    "                    if len(t['entities']['urls']) > 0:\n",
    "                        tw_obj.contains_link()\n",
    "                    if t['in_reply_to_screen_name'] and t['in_reply_to_screen_name'] != cand_name:\n",
    "                        tw_obj.is_response()\n",
    "                    cand_tweets.append(tw_obj)\n",
    "    except tweepy.TweepError:\n",
    "        time.sleep(60 * 15)\n",
    "        print(\"tweepyError 2\")\n",
    "        continue\n",
    "    except:\n",
    "        print(len(cand_tweets))\n",
    "        print(len(tmpTweets))"
   ]
  },
  {
   "cell_type": "code",
   "execution_count": null,
   "metadata": {},
   "outputs": [],
   "source": [
    "\n",
    "warren_tweets = tweets['ewarren']\n",
    "print(len(tweets['ewarren']))\n",
    "zzzzzzzzzzz = 0\n",
    "for i in range(len(warren_tweets)):\n",
    "    if (warren_tweets[i]._clean_text).count(\" \") > 25:\n",
    "        print(warren_tweets[i]._raw_text)\n",
    "        print(warren_tweets[i].get_sentiment()[0])\n",
    "        \n",
    "        zzzzzzzzzzz += 1\n",
    "print(zzzzzzzzzzz)"
   ]
  },
  {
   "cell_type": "code",
   "execution_count": 35,
   "metadata": {},
   "outputs": [],
   "source": [
    "def avg_sentiment(cand):\n",
    "    global tweets\n",
    "    cand_t = tweets[cand]\n",
    "    sent_sum = float(0)\n",
    "    num_counted = float(0)\n",
    "    for i in range(len(cand_t)):\n",
    "        if (cand_t[i]._clean_text).count(\" \") > 29:\n",
    "            sent_sum += cand_t[i].get_sentiment()[0]\n",
    "            num_counted += 1\n",
    "    return sent_sum/num_counted\n",
    "\n",
    "cand_sentiments = {}\n",
    "sentiment_nums = []\n",
    "for i in tweets:\n",
    "    sent = avg_sentiment(i)\n",
    "    cand_sentiments[i] = sent\n",
    "    sentiment_nums.append(sent)"
   ]
  },
  {
   "cell_type": "code",
   "execution_count": 36,
   "metadata": {},
   "outputs": [
    {
     "data": {
      "text/plain": [
       "[0.12942987567987568,\n",
       " 0.048031681368945534,\n",
       " 0.02618614718614718,\n",
       " 0.08256354359925787,\n",
       " 0.08728715728715729,\n",
       " 0.2035815844783236,\n",
       " 0.004565217391304345,\n",
       " 0.11700396825396825,\n",
       " 0.06059684281236006,\n",
       " 0.10876645923520925,\n",
       " 0.003640196608946611]"
      ]
     },
     "execution_count": 36,
     "metadata": {},
     "output_type": "execute_result"
    }
   ],
   "source": [
    "cand_sentiments\n",
    "\n",
    "sentiment_nums"
   ]
  },
  {
   "cell_type": "code",
   "execution_count": 66,
   "metadata": {},
   "outputs": [
    {
     "data": {
      "image/png": "[encoded data removed]",
      "text/plain": [
       "<Figure size 432x288 with 1 Axes>"
      ]
     },
     "metadata": {
      "needs_background": "light"
     },
     "output_type": "display_data"
    }
   ],
   "source": [
    "def getImage(path):\n",
    "    if path == 'images/sanders.png':\n",
    "        return OffsetImage(plt.imread(path), zoom = 0.03, interpolation='gaussian')\n",
    "    elif path == 'images/bennet.png':\n",
    "        return OffsetImage(plt.imread(path), zoom = 0.08, interpolation='gaussian')\n",
    "    else:\n",
    "        return OffsetImage(plt.imread(path), zoom = 0.1, interpolation='gaussian')\n",
    "\n",
    "paths = ['images/bennet.png',\n",
    "        'images/biden.png',\n",
    "        'images/booker.png',\n",
    "        'images/buttigieg.png',\n",
    "        'images/castro.png',\n",
    "        'images/gabbard.png',\n",
    "        'images/harris.png',\n",
    "        'images/klobuchar.png',\n",
    "        'images/sanders.png',\n",
    "        'images/warren.png',\n",
    "        'images/yang.png']\n",
    "\n",
    "x = [i+1 for i in range(len(paths))]\n",
    "y = sentiment_nums\n",
    "# x = [0,1,2,3,4]\n",
    "# y = [0,1,2,3,4]\n",
    "\n",
    "fig, ax = plt.subplots()\n",
    "ax.scatter(x, y, color = \"white\")\n",
    "plt.xticks(np.arange(1, len(paths)+1, 1), np.arange(len(paths), 0, -1))\n",
    "y = []\n",
    "\n",
    "# for x0, y0, path in zip(x, y,paths):\n",
    "for i in range(len(paths)):\n",
    "    candidate_name = most_recent_rankings[i]\n",
    "    path_name = \"images/\" + candidate_name + \".png\"\n",
    "#     ab = AnnotationBbox(getImage(path), (x0, y0), frameon=False) # , box_alignment=(0.3,0.3))\n",
    "    ab = AnnotationBbox(getImage(path_name), (x[i], \n",
    "                            cand_sentiments[last_name_to_handle[candidate_name]]), frameon=False) # , box_alignment=(0.3,0.3))\n",
    "    ax.add_artist(ab)\n",
    "    y.append(cand_sentiments[last_name_to_handle[candidate_name]])\n",
    "\n",
    "plt.plot(np.unique(x), np.poly1d(np.polyfit(x, y, 1))(np.unique(x)))\n",
    "    \n",
    "caption = \"\"\"The ranking in the most recent polls is based upon the current RealClearPolitics (RCP) average.\n",
    "            Tweet sentiment is calculated using the TextBlob Python package and is conducted on all tweets \n",
    "            of more than 30 words between Sep 2 and Nov 16 of 2019. 30 words was chosen to make the sentiment \n",
    "            analysis more accurate. Sentiment is calculated on a continuous scale from -1 (negative) to 1 (positive),\n",
    "            with a score of 0 having a neutral sentiment. Bloomberg and Steyer are excluded from this analysis because\n",
    "            of their late entry into the race.\"\"\"\n",
    "\n",
    "plt.xlabel(\"Position in Latest Polls\")\n",
    "plt.ylabel(\"Average Tweet Sentiment\")\n",
    "plt.title(\"Average Tweet Sentiment vs. Position in Polls\")\n",
    "fig.text(.5, -.2, caption, ha='center', fontdict={'size': 7})\n",
    "\n",
    "\n",
    "plt.savefig('my_figure.pdf', bbox_inches='tight', dpi=400)"
   ]
  },
  {
   "cell_type": "code",
   "execution_count": 62,
   "metadata": {},
   "outputs": [
    {
     "data": {
      "text/plain": [
       "-0.008907290538993355"
      ]
     },
     "execution_count": 62,
     "metadata": {},
     "output_type": "execute_result"
    }
   ],
   "source": [
    "# model fit for above graph\n",
    "b, m = np.polynomial.polynomial.polyfit(x, y, 1)\n",
    "m"
   ]
  },
  {
   "cell_type": "code",
   "execution_count": 68,
   "metadata": {},
   "outputs": [
    {
     "data": {
      "text/plain": [
       "0.0757762994670424"
      ]
     },
     "execution_count": 68,
     "metadata": {},
     "output_type": "execute_result"
    }
   ],
   "source": [
    "from scipy.stats import iqr"
   ]
  },
  {
   "cell_type": "code",
   "execution_count": 70,
   "metadata": {},
   "outputs": [
    {
     "name": "stdout",
     "output_type": "stream",
     "text": [
      "0.2035815844783236\n"
     ]
    }
   ],
   "source": [
    "# outlier check for above graph\n",
    "q3 = np.quantile(y, 0.75)\n",
    "iqr = iqr(y)\n",
    "for i in y:\n",
    "    if i > iqr + q3:\n",
    "        print(i)\n",
    "    "
   ]
  }
 ],
 "metadata": {
  "kernelspec": {
   "display_name": "Python 3",
   "language": "python",
   "name": "python3"
  },
  "language_info": {
   "codemirror_mode": {
    "name": "ipython",
    "version": 3
   },
   "file_extension": ".py",
   "mimetype": "text/x-python",
   "name": "python",
   "nbconvert_exporter": "python",
   "pygments_lexer": "ipython3",
   "version": "3.7.4"
  }
 },
 "nbformat": 4,
 "nbformat_minor": 2
}
