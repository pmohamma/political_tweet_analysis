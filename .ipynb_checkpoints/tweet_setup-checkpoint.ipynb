{
 "cells": [
  {
   "cell_type": "code",
   "execution_count": 33,
   "metadata": {},
   "outputs": [],
   "source": [
    "from tweet import *\n",
    "from candidate import *\n",
    "import pandas as pd\n",
    "import numpy as np\n",
    "import tweepy\n",
    "import json\n",
    "import calendar\n",
    "import datetime\n",
    "import matplotlib.pyplot as plt\n",
    "from matplotlib.offsetbox import OffsetImage, AnnotationBbox"
   ]
  },
  {
   "cell_type": "code",
   "execution_count": 2,
   "metadata": {},
   "outputs": [],
   "source": [
    "#TODO: Fill this in\n",
    "\n",
    "consumer_key = \"BeC8UJbqCHyX6pTWAvEvvIcGJ\"\n",
    "consumer_secret = \"IwEzqplLUKar6MFZ7l828tLbEpxG3ObD49llOSPJ6Y6phKzVYT\"\n",
    "access_token = \"727703646331240448-31ZFnJzKYfDcHh3HIgBhd1FfU3W7VaO\"\n",
    "access_token_secret = \"GprFSIZ18ukkn9lZb7INfEn78miwkXzWpkzyJ6ocLAg6J\"\n",
    "\n",
    "auth = tweepy.OAuthHandler(consumer_key, consumer_secret)\n",
    "auth.set_access_token(access_token, access_token_secret)\n",
    "\n",
    "api = tweepy.API(auth)"
   ]
  },
  {
   "cell_type": "code",
   "execution_count": 3,
   "metadata": {},
   "outputs": [],
   "source": [
    "month_abbrs = dict((v,k) for k,v in enumerate(calendar.month_abbr))"
   ]
  },
  {
   "cell_type": "code",
   "execution_count": 30,
   "metadata": {},
   "outputs": [],
   "source": [
    "def get_tweet_time(time_str):\n",
    "    global month_abbrs\n",
    "    time_lst = time_str.split(\" \")\n",
    "    year = int(time_lst[-1])\n",
    "    day = int(time_lst[2])\n",
    "    month = month_abbrs[time_lst[1]]\n",
    "    return datetime.date(year, month, day)    "
   ]
  },
  {
   "cell_type": "code",
   "execution_count": 32,
   "metadata": {},
   "outputs": [
    {
     "name": "stdout",
     "output_type": "stream",
     "text": [
      "2692\n"
     ]
    }
   ],
   "source": [
    "startDate =   datetime.datetime(2019, 6, 1, 0, 0, 0)\n",
    "# startDate =   datetime.datetime(2019, 11, 1, 0, 0, 0)\n",
    "endDate = datetime.datetime(2019, 11, 2, 0, 0, 0)\n",
    "tweets = {}\n",
    "cand_handles = ['AndrewYang', 'ewarren', 'PeteButtigieg', 'BernieSanders', \n",
    "                'MichaelBennet', 'amyklobuchar', 'KamalaHarris', 'TulsiGabbard', \n",
    "                'JulianCastro', 'CoryBooker', 'JoeBiden']\n",
    "\n",
    "for cand_name in cand_handles:\n",
    "    cand_tweets = []\n",
    "    tweets[cand_name] = cand_tweets\n",
    "    tmpTweets = api.user_timeline(cand_name, tweet_mode='extended')\n",
    "    for t in tmpTweets:\n",
    "        if t.created_at < endDate and t.created_at > startDate:\n",
    "            cand_tweets.append(t)\n",
    "    if len(cand_tweets) > 0:\n",
    "        print(cand_tweets)\n",
    "    try:\n",
    "        while (tmpTweets[-1].created_at > startDate):\n",
    "            tmpTweets = api.user_timeline(cand_name, max_id = tmpTweets[-1].id, tweet_mode='extended')\n",
    "            for ti in tmpTweets:\n",
    "                if ti.created_at < endDate and ti.created_at > startDate:\n",
    "                    t = ti._json\n",
    "                    tw_obj = Tweet(t['full_text'], get_tweet_time(t['created_at']), cand_name)\n",
    "                    if 'media' in t['entities']:\n",
    "                        tw_obj.contains_media()\n",
    "                    if len(t['entities']['urls']) > 0:\n",
    "                        tw_obj.contains_link()\n",
    "                    if t['in_reply_to_screen_name'] and t['in_reply_to_screen_name'] != cand_name:\n",
    "                        tw_obj.is_response()\n",
    "                    cand_tweets.append(tw_obj)\n",
    "    except:\n",
    "        print(len(cand_tweets))\n",
    "        print(len(tmpTweets))"
   ]
  },
  {
   "cell_type": "code",
   "execution_count": 26,
   "metadata": {},
   "outputs": [
    {
     "name": "stdout",
     "output_type": "stream",
     "text": [
      "32\n",
      "Private sector employers are projected to spend $9 trillion on health care over the next ten years. Under my #MedicareForAll plan, employers will save $200 billion—while families will save $11 trillion. Read more about what my plan will mean for you. https://t.co/uit4530iQg\n",
      "-0.078125\n",
      "The Trump administration has pushed construction of the Keystone XL pipeline despite the known environmental and public health risks. North Dakotans deserve better than this. We need clean energy to protect our public lands and waters. https://t.co/kFC5PMO89v\n",
      "0.21666666666666667\n",
      "This analysis was led by Dr. Donald Berwick, one of the nation's top experts in health care improvement who ran the Medicare and Medicaid programs under President Obama; and Simon Johnson, the former Chief Economist at the International Monetary Fund and a professor at MIT.\n",
      "0.16666666666666666\n",
      "Achieving #MedicareForAll isn’t going to be easy, but I’m in this race to fight for American families. In the coming weeks, I will also release a transition plan—and I will start lowering health care costs and increasing coverage as soon as I’m sworn in as president.\n",
      "0.21666666666666667\n",
      "We cover the remaining $11 trillion largely with taxes on big corporations, Wall Street, and the top 1%—and enforcing the tax laws we have now. Add in a targeted cut to a Defense Dept slush fund and that’s it. You’ll find full details in my plan here: https://t.co/N0Ai7TayJD\n",
      "0.26607142857142857\n",
      "My #MedicareForAll plan would end the stranglehold of health costs on American families. It would return a whopping $11 trillion to families who will never pay another premium or medical bill. It would be one of the greatest federal expansions of middle-class wealth in history.\n",
      "0.3333333333333333\n",
      "#MedicareForAll finally brings true choice to the health care system. The choice to see the doctor you want, to get the prescriptions you need, pick the job or start that small business you want without worrying about where your health insurance will come from.\n",
      "0.033333333333333326\n",
      "Health care costs are rising and crushing families. And a serious diagnosis can financially ruin a middle-class family even if they have insurance. We let private insurance and drug companies profit from that pain. Enough. We need a system that reflects our values.\n",
      "0.013333333333333341\n",
      "Today, I’m releasing my plan to pay for #MedicareForAll. Here’s the headline: My plan won't raise taxes one penny on middle-class families. In fact, we'll return about $11 TRILLION to the American people. That's bigger than the biggest tax cut in our history. Here's how:\n",
      "0.0\n",
      "Donald Trump doesn't want the state of New York to see his taxes—I wonder why. Let's call this out for what it is: Corruption, plain and simple. Under my anti-corruption plan, all presidential candidates would be required to release their tax returns. https://t.co/0QnsObxV1r\n",
      "-0.025974025974025972\n",
      "Instead of getting cozy with the rich and powerful, I'm on the road this week for meet-and-greets and organizing events.\n",
      "\n",
      "Other campaigns might take money from fancy fundraisers or PACs. Not ours. Will you chip in before midnight to help our campaign grow? https://t.co/LCdhrK461Q\n",
      "0.0875\n",
      "Instead of getting cozy with the rich and powerful, I'm on the road this week for meet-and-greets and organizing events.\n",
      "\n",
      "Other campaigns might take money from fancy fundraisers or PACs. Not ours. Will you chip in before midnight to help our campaign grow? https://t.co/LCdhrK461Q\n",
      "0.0875\n",
      "12\n"
     ]
    }
   ],
   "source": [
    "warren_tweets = tweets['ewarren']\n",
    "print(len(tweets['ewarren']))\n",
    "zzzzzzzzzzz = 0\n",
    "for i in range(len(warren_tweets)):\n",
    "    if (warren_tweets[i]._clean_text).count(\" \") > 25:\n",
    "        print(warren_tweets[i]._raw_text)\n",
    "        print(warren_tweets[i].get_sentiment()[0])\n",
    "        \n",
    "        zzzzzzzzzzz += 1\n",
    "print(zzzzzzzzzzz)"
   ]
  },
  {
   "cell_type": "code",
   "execution_count": null,
   "metadata": {},
   "outputs": [],
   "source": []
  },
  {
   "cell_type": "code",
   "execution_count": 72,
   "metadata": {},
   "outputs": [
    {
     "data": {
      "image/png": "[encoded data removed]",
      "text/plain": [
       "<Figure size 432x288 with 1 Axes>"
      ]
     },
     "metadata": {
      "needs_background": "light"
     },
     "output_type": "display_data"
    }
   ],
   "source": [
    "def getImage(path):\n",
    "    return OffsetImage(plt.imread(path), zoom = 0.1, interpolation='gaussian')\n",
    "\n",
    "paths = ['images/bennet.png',\n",
    "        'images/biden.png',\n",
    "        'images/booker.png',\n",
    "        'images/buttigieg.png',\n",
    "        'images/castro.png',\n",
    "        'images/gabbard.png',\n",
    "        'images/harris.png',\n",
    "        'images/klobuchar.png',\n",
    "        'images/sanders.png',\n",
    "        'images/warren.png',\n",
    "        'images/yang.png']\n",
    "\n",
    "x = [i+1 for i in range(len(paths))]\n",
    "y = [i+1 for i in range(len(paths))]\n",
    "# x = [0,1,2,3,4]\n",
    "# y = [0,1,2,3,4]\n",
    "\n",
    "fig, ax = plt.subplots()\n",
    "ax.scatter(x, y) \n",
    "\n",
    "# for x0, y0, path in zip(x, y,paths):\n",
    "for i in range(len(paths)):\n",
    "#     ab = AnnotationBbox(getImage(path), (x0, y0), frameon=False) # , box_alignment=(0.3,0.3))\n",
    "    ab = AnnotationBbox(getImage(paths[i]), (x[i], y[i]), frameon=False) # , box_alignment=(0.3,0.3))\n",
    "    ax.add_artist(ab)\n",
    "    \n",
    "plt.savefig('my_figure.pdf', bbox_inches='tight', dpi=400)"
   ]
  }
 ],
 "metadata": {
  "kernelspec": {
   "display_name": "Python 3",
   "language": "python",
   "name": "python3"
  },
  "language_info": {
   "codemirror_mode": {
    "name": "ipython",
    "version": 3
   },
   "file_extension": ".py",
   "mimetype": "text/x-python",
   "name": "python",
   "nbconvert_exporter": "python",
   "pygments_lexer": "ipython3",
   "version": "3.7.4"
  }
 },
 "nbformat": 4,
 "nbformat_minor": 2
}
